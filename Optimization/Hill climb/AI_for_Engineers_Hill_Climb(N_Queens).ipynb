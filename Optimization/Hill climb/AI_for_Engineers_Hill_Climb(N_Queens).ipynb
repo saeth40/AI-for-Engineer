{
  "nbformat": 4,
  "nbformat_minor": 0,
  "metadata": {
    "colab": {
      "name": "AI for Engineers:Hill climb(N-Queens).ipynb",
      "provenance": [],
      "collapsed_sections": []
    },
    "kernelspec": {
      "name": "python3",
      "display_name": "Python 3"
    }
  },
  "cells": [
    {
      "cell_type": "markdown",
      "metadata": {
        "id": "e6TNERPf40aR"
      },
      "source": [
        "# Objective\n",
        "1. function to find h\n",
        "2. function to generate list of candidates using hill climb\n",
        "3. function to find the minimum h given n"
      ]
    },
    {
      "cell_type": "markdown",
      "metadata": {
        "id": "g2EEcerz5Kqy"
      },
      "source": [
        "# function to find h"
      ]
    },
    {
      "cell_type": "markdown",
      "metadata": {
        "id": "gawhXUfe1J-s"
      },
      "source": [
        "![image.png](data:image/png;base64,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)"
      ]
    },
    {
      "cell_type": "code",
      "metadata": {
        "id": "XzVYERaD1LB8"
      },
      "source": [
        "#to find h value (h=0 is the best)\n",
        "def heuristic(x):\n",
        "    h = 0 \n",
        "    for i in range(len(x)):\n",
        "      for j in range(i+1,len(x)):\n",
        "        if x[i] == x[j]:\n",
        "          h += 1\n",
        "        if abs(x[i]-x[j]) == abs(i-j):\n",
        "          h += 1\n",
        "    return h"
      ],
      "execution_count": 1,
      "outputs": []
    },
    {
      "cell_type": "code",
      "metadata": {
        "colab": {
          "base_uri": "https://localhost:8080/"
        },
        "id": "OEWzZ6Tlzy_N",
        "outputId": "f83137d5-c49b-41fd-9d47-19b87ccee131"
      },
      "source": [
        "print(heuristic([2,3,2,3]))"
      ],
      "execution_count": 2,
      "outputs": [
        {
          "output_type": "stream",
          "text": [
            "5\n"
          ],
          "name": "stdout"
        }
      ]
    },
    {
      "cell_type": "code",
      "metadata": {
        "colab": {
          "base_uri": "https://localhost:8080/"
        },
        "id": "oZ9CgFEh1VFX",
        "outputId": "3ab08c17-b224-472f-ddaf-d02964ef5d12"
      },
      "source": [
        "print(heuristic([2,4,2,3]))"
      ],
      "execution_count": 3,
      "outputs": [
        {
          "output_type": "stream",
          "text": [
            "2\n"
          ],
          "name": "stdout"
        }
      ]
    },
    {
      "cell_type": "code",
      "metadata": {
        "colab": {
          "base_uri": "https://localhost:8080/"
        },
        "id": "8oC8LqH01ZpQ",
        "outputId": "97ee052d-82ab-4640-dd59-71ec247ba058"
      },
      "source": [
        "print(heuristic([2,4,1,3]))"
      ],
      "execution_count": 4,
      "outputs": [
        {
          "output_type": "stream",
          "text": [
            "0\n"
          ],
          "name": "stdout"
        }
      ]
    },
    {
      "cell_type": "code",
      "metadata": {
        "colab": {
          "base_uri": "https://localhost:8080/"
        },
        "id": "MtDpMLcw1cr5",
        "outputId": "b50bac5c-fd97-4298-e34f-2ace78e525ff"
      },
      "source": [
        "import random\n",
        "n=6\n",
        "current=[int(random.random()*n) for i in range(n)]\n",
        "print(current)"
      ],
      "execution_count": 5,
      "outputs": [
        {
          "output_type": "stream",
          "text": [
            "[5, 4, 3, 0, 0, 1]\n"
          ],
          "name": "stdout"
        }
      ]
    },
    {
      "cell_type": "markdown",
      "metadata": {
        "id": "5tFf-dpH5PKl"
      },
      "source": [
        "# hill climb function to list possible candidates"
      ]
    },
    {
      "cell_type": "code",
      "metadata": {
        "id": "rPAu0wMK1jDZ"
      },
      "source": [
        "#list of candidate (using hill climb)\n",
        "def gen_successor(current):\n",
        "  out=[]\n",
        "  for i in range(len(current)):\n",
        "    kk=list(current)\n",
        "\n",
        "    #value = 0 : +1\n",
        "    if kk[i] == 0  :\n",
        "      kk[i]=kk[i]+1\n",
        "      out.append(kk)\n",
        "\n",
        "    #value = n : -1\n",
        "    elif kk[i]== len(kk)-1 :\n",
        "      kk[i]=kk[i]-1\n",
        "      out.append(kk)\n",
        "\n",
        "    #else : +1 and - 1\n",
        "    else:\n",
        "      kk[i]=kk[i]+1\n",
        "      out.append(kk)\n",
        "      kk=list(current)\n",
        "      kk[i]=kk[i]-1\n",
        "      out.append(kk)\n",
        "  return out"
      ],
      "execution_count": 6,
      "outputs": []
    },
    {
      "cell_type": "code",
      "metadata": {
        "colab": {
          "base_uri": "https://localhost:8080/"
        },
        "id": "Iaey2rZ12MEv",
        "outputId": "d6ce8aaa-438a-4ee7-99c2-59ac27a4270c"
      },
      "source": [
        "print(gen_successor(current))"
      ],
      "execution_count": 7,
      "outputs": [
        {
          "output_type": "stream",
          "text": [
            "[[4, 4, 3, 0, 0, 1], [5, 5, 3, 0, 0, 1], [5, 3, 3, 0, 0, 1], [5, 4, 4, 0, 0, 1], [5, 4, 2, 0, 0, 1], [5, 4, 3, 1, 0, 1], [5, 4, 3, 0, 1, 1], [5, 4, 3, 0, 0, 2], [5, 4, 3, 0, 0, 0]]\n"
          ],
          "name": "stdout"
        }
      ]
    },
    {
      "cell_type": "code",
      "metadata": {
        "id": "j6dlyLRM3-le"
      },
      "source": [
        "def find_best_successor(ll):\n",
        "  minn=list()\n",
        "  lol=9999\n",
        "  for i in ll:\n",
        "    if heuristic(i)<lol:\n",
        "      minn=i\n",
        "      lol=heuristic(i)\n",
        "  return minn"
      ],
      "execution_count": 8,
      "outputs": []
    },
    {
      "cell_type": "code",
      "metadata": {
        "colab": {
          "base_uri": "https://localhost:8080/"
        },
        "id": "AczYV_kK4TbD",
        "outputId": "9bb5234f-c6fe-47b6-cfe7-18c1dcd5fb2d"
      },
      "source": [
        "find_best_successor(gen_successor(current))"
      ],
      "execution_count": 9,
      "outputs": [
        {
          "output_type": "execute_result",
          "data": {
            "text/plain": [
              "[5, 4, 2, 0, 0, 1]"
            ]
          },
          "metadata": {
            "tags": []
          },
          "execution_count": 9
        }
      ]
    },
    {
      "cell_type": "markdown",
      "metadata": {
        "id": "codcJKCw5WGF"
      },
      "source": [
        "# finding the minimum h given n = 6"
      ]
    },
    {
      "cell_type": "code",
      "metadata": {
        "colab": {
          "base_uri": "https://localhost:8080/"
        },
        "id": "3fZI0FEV4Yx7",
        "outputId": "08498e98-7761-4e85-df8b-7928b2f234a5"
      },
      "source": [
        "#loop to find the minimum h\n",
        "\n",
        "n=6\n",
        "current=[int(random.random()*n) for i in range(n)]\n",
        "\n",
        "count=0 #to limit time\n",
        "iteration=0 #to count iteration\n",
        "rec_iter=[]\n",
        "rec_h=[]\n",
        "while True:\n",
        "  successors = gen_successor(current)\n",
        "  best_successor = find_best_successor(successors)\n",
        "  if count>1000:\n",
        "    print('too many rounds')\n",
        "    break\n",
        "  elif heuristic(best_successor) == 0:\n",
        "    print('best='+str(heuristic(best_successor)))\n",
        "    print(best_successor)\n",
        "    iteration+=1\n",
        "    rec_iter.append(iteration)\n",
        "    rec_h.append(heuristic(best_successor))\n",
        "    break\n",
        "  elif heuristic(best_successor)<heuristic(current):\n",
        "    current = list(best_successor)\n",
        "    print('current='+str(heuristic(current)))\n",
        "    print(current)\n",
        "    iteration+=1\n",
        "    rec_iter.append(iteration)\n",
        "    rec_h.append(heuristic(best_successor))\n",
        "  else:\n",
        "    # to prevent the same candidate\n",
        "    n=6\n",
        "    current=[int(random.random()*n) for i in range(n)]\n",
        "    print('new current', current)\n",
        "    count+=1\n",
        "    iteration+=1\n",
        "    rec_iter.append(iteration)\n",
        "    rec_h.append(heuristic(current))\n",
        "print('iteration='+str(iteration))"
      ],
      "execution_count": 16,
      "outputs": [
        {
          "output_type": "stream",
          "text": [
            "current=3\n",
            "[5, 2, 0, 3, 0, 5]\n",
            "current=1\n",
            "[5, 2, 0, 3, 0, 4]\n",
            "new current [4, 0, 1, 3, 3, 4]\n",
            "current=5\n",
            "[4, 0, 1, 3, 2, 4]\n",
            "current=3\n",
            "[4, 0, 1, 3, 2, 5]\n",
            "current=2\n",
            "[4, 0, 1, 4, 2, 5]\n",
            "new current [3, 4, 4, 3, 1, 4]\n",
            "current=5\n",
            "[3, 5, 4, 3, 1, 4]\n",
            "current=4\n",
            "[3, 5, 5, 3, 1, 4]\n",
            "current=2\n",
            "[2, 5, 5, 3, 1, 4]\n",
            "new current [5, 1, 5, 5, 1, 3]\n",
            "current=3\n",
            "[4, 1, 5, 5, 1, 3]\n",
            "current=2\n",
            "[4, 2, 5, 5, 1, 3]\n",
            "new current [5, 1, 2, 3, 3, 3]\n",
            "current=3\n",
            "[5, 1, 2, 4, 3, 3]\n",
            "new current [2, 2, 5, 0, 4, 1]\n",
            "current=1\n",
            "[2, 3, 5, 0, 4, 1]\n",
            "new current [5, 5, 4, 1, 3, 1]\n",
            "current=3\n",
            "[5, 5, 4, 1, 3, 2]\n",
            "new current [1, 0, 0, 2, 4, 4]\n",
            "current=4\n",
            "[1, 0, 0, 2, 4, 5]\n",
            "new current [5, 5, 3, 0, 0, 3]\n",
            "current=3\n",
            "[5, 5, 4, 0, 0, 3]\n",
            "new current [1, 5, 5, 5, 2, 4]\n",
            "current=3\n",
            "[1, 4, 5, 5, 2, 4]\n",
            "current=2\n",
            "[1, 3, 5, 5, 2, 4]\n",
            "new current [4, 5, 0, 2, 2, 1]\n",
            "current=3\n",
            "[4, 5, 0, 2, 3, 1]\n",
            "new current [2, 5, 0, 0, 4, 5]\n",
            "current=3\n",
            "[1, 5, 0, 0, 4, 5]\n",
            "current=2\n",
            "[1, 5, 0, 0, 3, 5]\n",
            "current=1\n",
            "[1, 4, 0, 0, 3, 5]\n",
            "new current [4, 0, 5, 2, 0, 2]\n",
            "current=3\n",
            "[4, 1, 5, 2, 0, 2]\n",
            "current=1\n",
            "[4, 1, 5, 2, 0, 3]\n",
            "new current [0, 5, 0, 4, 4, 1]\n",
            "current=3\n",
            "[0, 5, 0, 4, 3, 1]\n",
            "new current [1, 3, 1, 2, 3, 0]\n",
            "current=3\n",
            "[1, 3, 1, 2, 4, 0]\n",
            "current=2\n",
            "[1, 3, 0, 2, 4, 0]\n",
            "current=1\n",
            "[1, 3, 0, 2, 4, 1]\n",
            "new current [5, 4, 2, 1, 0, 5]\n",
            "current=4\n",
            "[5, 4, 1, 1, 0, 5]\n",
            "new current [3, 2, 1, 2, 0, 4]\n",
            "current=4\n",
            "[3, 2, 0, 2, 0, 4]\n",
            "current=3\n",
            "[3, 1, 0, 2, 0, 4]\n",
            "new current [1, 2, 4, 0, 1, 5]\n",
            "current=3\n",
            "[1, 3, 4, 0, 1, 5]\n",
            "current=2\n",
            "[1, 3, 4, 0, 2, 5]\n",
            "current=1\n",
            "[1, 3, 5, 0, 2, 5]\n",
            "best=0\n",
            "[1, 3, 5, 0, 2, 4]\n",
            "iteration=51\n"
          ],
          "name": "stdout"
        }
      ]
    },
    {
      "cell_type": "code",
      "metadata": {
        "colab": {
          "base_uri": "https://localhost:8080/"
        },
        "id": "HglY4rY0Qhcp",
        "outputId": "2e99e4b2-2d3f-4a3f-97f0-8ff108847cb3"
      },
      "source": [
        "len(rec_iter)"
      ],
      "execution_count": 17,
      "outputs": [
        {
          "output_type": "execute_result",
          "data": {
            "text/plain": [
              "51"
            ]
          },
          "metadata": {
            "tags": []
          },
          "execution_count": 17
        }
      ]
    },
    {
      "cell_type": "code",
      "metadata": {
        "colab": {
          "base_uri": "https://localhost:8080/"
        },
        "id": "Lsiro6ppQix5",
        "outputId": "a9179cf5-f8ef-4369-945b-5ee21a0afe94"
      },
      "source": [
        "len(rec_h)"
      ],
      "execution_count": 18,
      "outputs": [
        {
          "output_type": "execute_result",
          "data": {
            "text/plain": [
              "51"
            ]
          },
          "metadata": {
            "tags": []
          },
          "execution_count": 18
        }
      ]
    },
    {
      "cell_type": "code",
      "metadata": {
        "colab": {
          "base_uri": "https://localhost:8080/",
          "height": 404
        },
        "id": "9sTT3_-nQps_",
        "outputId": "f4ee6367-504b-463d-9a65-964ae4abb69b"
      },
      "source": [
        "#ploting the genetic algorithm process\n",
        "\n",
        "import matplotlib.pyplot as plt\n",
        "import numpy as np\n",
        "%matplotlib inline\n",
        "plt.figure(figsize=(16,6))\n",
        "x=rec_iter\n",
        "y=rec_h\n",
        "plt.title(\"Hill climb: N-Queens\") \n",
        "plt.xlabel(\"iteration\") \n",
        "plt.ylabel(\"h_value\") \n",
        "plt.plot(x,y) \n",
        "plt.show()"
      ],
      "execution_count": 19,
      "outputs": [
        {
          "output_type": "display_data",
          "data": {
            "image/png": "[encoded data removed]",
            "text/plain": [
              "<Figure size 1152x432 with 1 Axes>"
            ]
          },
          "metadata": {
            "tags": [],
            "needs_background": "light"
          }
        }
      ]
    }
  ]
}